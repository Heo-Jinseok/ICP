{
 "cells": [
  {
   "cell_type": "markdown",
   "metadata": {},
   "source": [
    "# switch case"
   ]
  },
  {
   "cell_type": "code",
   "execution_count": null,
   "metadata": {},
   "outputs": [],
   "source": [
    "#include <stdio.h>\n",
    "\n",
    "int main()\n",
    "{\n",
    "    int kor, math, eng;\n",
    "    float average;\n",
    "    \n",
    "    kor = 100;\n",
    "    math = 100;\n",
    "    eng = 100;\n",
    "    \n",
    "    switch((int)average/10){\n",
    "        case 10:\n",
    "        case 9:\n",
    "            printf(\"average %.1f, grade A\\n\", average);\n",
    "            break;\n",
    "        case 8:\n",
    "            printf(\"average %.1f, grade B\\n\", average);\n",
    "            break;\n",
    "        case 7:\n",
    "            printf(\"average %.1f, grade C\\n\", average);\n",
    "            break;\n",
    "        case 6:\n",
    "            printf(\"average %.1f, grade D\\n\", average);\n",
    "            break;\n",
    "        default:\n",
    "            printf(\"average %.1f, grade F\\n\", average);\n",
    "    }\n",
    "    return 0;\n",
    "}"
   ]
  },
  {
   "cell_type": "markdown",
   "metadata": {},
   "source": [
    "# 문제\n",
    "5 부터 55까지 홀수합과 짝수합을 각각 구하여 출력하는 프로그램을 for문과 switch문을 이용하여 작성하여라"
   ]
  },
  {
   "cell_type": "markdown",
   "metadata": {},
   "source": [
    "# 문제\n",
    "다음 switch 문장의 수행 결과는 어떻게 되는가?\n",
    "\n",
    "```\n",
    "c = 2\n",
    "switch(c) {\n",
    "    case 1 : printf(\"A\");\n",
    "    case 2 : printf(\"B\");\n",
    "    case 3 : printf(\"C\");\n",
    "    default : printf(\"T\");\n",
    "}\n",
    "```"
   ]
  },
  {
   "cell_type": "code",
   "execution_count": null,
   "metadata": {},
   "outputs": [],
   "source": []
  }
 ],
 "metadata": {
  "kernelspec": {
   "display_name": "C",
   "language": "c",
   "name": "c"
  },
  "language_info": {
   "file_extension": ".c",
   "mimetype": "text/plain",
   "name": "c"
  }
 },
 "nbformat": 4,
 "nbformat_minor": 2
}
