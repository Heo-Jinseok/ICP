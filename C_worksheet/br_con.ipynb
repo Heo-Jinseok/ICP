{
 "cells": [
  {
   "cell_type": "markdown",
   "metadata": {},
   "source": [
    "# 문제\n",
    "다음의 ```break``` 의 사용을 읽어보고 결과를 예측 해보자"
   ]
  },
  {
   "cell_type": "code",
   "execution_count": null,
   "metadata": {},
   "outputs": [],
   "source": [
    "#include <stdio.h>\n",
    "\n",
    "int main()\n",
    "{\n",
    "    int i, j;\n",
    "    for(i = 1; i <= 20; i++)\n",
    "    {\n",
    "        for(j = i; j <= 20; j++)\n",
    "        {\n",
    "            if(j%5 == 0)\n",
    "            {\n",
    "                printf(\"%3d\\n\", j);\n",
    "                break;\n",
    "            }\n",
    "        }\n",
    "    }\n",
    "    return 0;\n",
    "}"
   ]
  },
  {
   "cell_type": "markdown",
   "metadata": {},
   "source": [
    "# 문제\n",
    "다음의 ```continue```의 사용을 보고 결과를 예측해보자."
   ]
  },
  {
   "cell_type": "code",
   "execution_count": null,
   "metadata": {},
   "outputs": [],
   "source": [
    "#include <stdio.h>\n",
    "\n",
    "int main()\n",
    "{\n",
    "    int i = 0, sum = 0;\n",
    "    while(i < 6)\n",
    "    {\n",
    "        i++;\n",
    "        if(i % 3 == 0)\n",
    "        {\n",
    "            continue;\n",
    "            sum += 1;\n",
    "        }\n",
    "    }\n",
    "    \n",
    "    printf(\"%d\\n\", sum);\n",
    "    \n",
    "    return 0;\n",
    "}"
   ]
  },
  {
   "cell_type": "markdown",
   "metadata": {},
   "source": [
    "# 문제 \n",
    "다음 코드를 실행하기 전에 결과를 예상해보시오."
   ]
  },
  {
   "cell_type": "code",
   "execution_count": null,
   "metadata": {},
   "outputs": [],
   "source": [
    "#include <stdio.h>\n",
    "\n",
    "int main()\n",
    "{\n",
    "    char ch[] = \"hello\"; // array\n",
    "    int i, a, b, top = 0;\n",
    "    \n",
    "    for(i = 0; i <= 4; i++)\n",
    "    {\n",
    "        a = 0;\n",
    "        for(b = i; b <= 4; b++)\n",
    "        {\n",
    "            if(ch[b] == ch[i])\n",
    "                a = a + 1;\n",
    "        }\n",
    "        if(a > top)\n",
    "            top = a;\n",
    "    }\n",
    "    printf(\"%d\", top)\n",
    "    return 0;\n",
    "}"
   ]
  },
  {
   "cell_type": "markdown",
   "metadata": {},
   "source": [
    "# 문제\n",
    "for 문을 사용하여 1에서 100 사이의 홀수 합을 구하는 프로그램을 작성하시오."
   ]
  },
  {
   "cell_type": "markdown",
   "metadata": {},
   "source": [
    "# 문제\n",
    "1부터 30까지의 정수 중에서 홀수를 출력하는 프로그램을 다음과 같이 작성하였다. 그런데 원하는 값이 출력되지 않는다. 어떤 오류가 있는지 파악하고 수정하여 보자."
   ]
  },
  {
   "cell_type": "code",
   "execution_count": null,
   "metadata": {},
   "outputs": [],
   "source": [
    "#include <stdio.h>\n",
    "\n",
    "int main()\n",
    "{\n",
    "    int sum;\n",
    "    for(sum = 1; sum <= 30; sum++)\n",
    "    {\n",
    "        if(sum / 2 == 1)\n",
    "            printf(\"%d\\n\", sum);\n",
    "    }\n",
    "    return 0;\n",
    "}"
   ]
  }
 ],
 "metadata": {
  "kernelspec": {
   "display_name": "C",
   "language": "c",
   "name": "c"
  },
  "language_info": {
   "file_extension": ".c",
   "mimetype": "text/plain",
   "name": "c"
  }
 },
 "nbformat": 4,
 "nbformat_minor": 2
}
