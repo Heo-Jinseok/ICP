{
 "cells": [
  {
   "cell_type": "markdown",
   "metadata": {},
   "source": [
    "제어문\n",
    "\n",
    "제어문 내에 문장이 하나 이상일 때는 중괄호로 묶어야 함."
   ]
  },
  {
   "cell_type": "code",
   "execution_count": 4,
   "metadata": {},
   "outputs": [
    {
     "name": "stdout",
     "output_type": "stream",
     "text": [
      "same value\n"
     ]
    }
   ],
   "source": [
    "#include <stdio.h>\n",
    "\n",
    "int main()\n",
    "{\n",
    "    int num1 = 2, num2;\n",
    "    // printf(\"enter a number: \");\n",
    "    // scanf(\"%d\", &num2);\n",
    "    num2 = 5;\n",
    "    \n",
    "    if (num1 == num2)\n",
    "        printf(\"same value\\n\");\n",
    "    if (num1 > 4)\n",
    "        printf(\"enter value smaller than 4\");\n",
    "\n",
    "    return 0;\n",
    "}"
   ]
  },
  {
   "cell_type": "code",
   "execution_count": 6,
   "metadata": {},
   "outputs": [
    {
     "name": "stdout",
     "output_type": "stream",
     "text": [
      "not multiples of 5\n"
     ]
    }
   ],
   "source": [
    "#include <stdio.h>\n",
    "\n",
    "int main()\n",
    "{\n",
    "    int num1;\n",
    "    // printf(\"enter a number: \");\n",
    "    // scanf(\"%d\", &num1);\n",
    "    num1 = 23;\n",
    "    \n",
    "    if(num1 % 5 == 0)\n",
    "        printf(\"it is multiples of 5\\n\");\n",
    "    else\n",
    "        printf(\"not multiples of 5\\n\");\n",
    "    return 0;\n",
    "}"
   ]
  },
  {
   "cell_type": "code",
   "execution_count": 8,
   "metadata": {},
   "outputs": [
    {
     "name": "stdout",
     "output_type": "stream",
     "text": [
      "average 100.0, grade: A\n"
     ]
    }
   ],
   "source": [
    "#include <stdio.h>\n",
    "\n",
    "int main()\n",
    "{\n",
    "    int kor, math, eng;\n",
    "    float avg;\n",
    "    \n",
    "    kor = 100;\n",
    "    math = 100;\n",
    "    eng = 100;\n",
    "    \n",
    "    avg = (float)(kor + math + eng)/3;\n",
    "    if (avg >= 90)\n",
    "        printf(\"average %.1f, grade: A\\n\", avg);\n",
    "    else if(avg >= 80)\n",
    "        printf(\"average %.1f, grade: B\\n\", avg);\n",
    "    else if(avg >= 70)\n",
    "        printf(\"average %.1f, grade: C\\n\", avg);\n",
    "    else if(avg >= 60)\n",
    "        printf(\"average %.1f, grade: D\\n\", avg);\n",
    "    else \n",
    "        printf(\"average %.1f, grade: F\\n\", avg);\n",
    "        \n",
    "    return 0;\n",
    "}"
   ]
  },
  {
   "cell_type": "code",
   "execution_count": 10,
   "metadata": {},
   "outputs": [
    {
     "name": "stdout",
     "output_type": "stream",
     "text": [
      "Pass\n"
     ]
    }
   ],
   "source": [
    "#include <stdio.h>\n",
    "\n",
    "int main()\n",
    "{\n",
    "    int math, eng;\n",
    "    float avg;\n",
    "    \n",
    "    math = 100;\n",
    "    eng = 100;\n",
    "    \n",
    "    if (math >= 60)\n",
    "        if (eng >= 60)\n",
    "            printf(\"Pass\\n\");\n",
    "        else\n",
    "            printf(\"Fail\\n\");\n",
    "    else \n",
    "        printf(\"Fail\\n\");\n",
    "        \n",
    "    return 0;\n",
    "}"
   ]
  },
  {
   "cell_type": "markdown",
   "metadata": {},
   "source": [
    "다음 코드를 수정하여 의도한 데로 출력되록 해보자."
   ]
  },
  {
   "cell_type": "code",
   "execution_count": 9,
   "metadata": {},
   "outputs": [
    {
     "name": "stderr",
     "output_type": "stream",
     "text": [
      "/var/folders/m1/hm171h0s5_n7q4srcldvtxd80000gn/T/tmpgl33qn2m.c:15:9: error: expected expression\n",
      "        else\n",
      "        ^\n",
      "/var/folders/m1/hm171h0s5_n7q4srcldvtxd80000gn/T/tmpgl33qn2m.c:17:5: error: expected expression\n",
      "    else \n",
      "    ^\n",
      "2 errors generated.\n",
      "[C kernel] GCC exited with code 1, the executable will not be executed"
     ]
    }
   ],
   "source": [
    "#include <stdio.h>\n",
    "\n",
    "int main()\n",
    "{\n",
    "    int math, eng;\n",
    "    float avg;\n",
    "    \n",
    "    math = 100;\n",
    "    eng = 100;\n",
    "    \n",
    "    if (math >= 60)\n",
    "        if (eng >= 60)\n",
    "            printf(\"Pass\\n\");\n",
    "            printf(\"Well done\\n\");\n",
    "        else\n",
    "            printf(\"Fail\\n\");\n",
    "    else \n",
    "        printf(\"Fail\\n\");\n",
    "        \n",
    "    return 0;\n",
    "}"
   ]
  },
  {
   "cell_type": "code",
   "execution_count": null,
   "metadata": {},
   "outputs": [],
   "source": []
  }
 ],
 "metadata": {
  "kernelspec": {
   "display_name": "C",
   "language": "c",
   "name": "c"
  },
  "language_info": {
   "file_extension": ".c",
   "mimetype": "text/plain",
   "name": "c"
  }
 },
 "nbformat": 4,
 "nbformat_minor": 2
}
