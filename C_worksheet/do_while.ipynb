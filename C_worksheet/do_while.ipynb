{
 "cells": [
  {
   "cell_type": "markdown",
   "metadata": {},
   "source": [
    "# do ... while"
   ]
  },
  {
   "cell_type": "code",
   "execution_count": null,
   "metadata": {},
   "outputs": [],
   "source": [
    "#include <stdio.h>\n",
    "\n",
    "int main()\n",
    "{\n",
    "    int row, col;\n",
    "    char char1;\n",
    "    row = col = 0;\n",
    "    \n",
    "    do {\n",
    "        char1 = 'A';\n",
    "        do\n",
    "        {\n",
    "            printf(\"%c\", char1+col);\n",
    "            col++;\n",
    "        } while(col <= row)\n",
    "        row++;\n",
    "        col = 0;\n",
    "        printf(\"\\n\");\n",
    "    } while(row < 5)\n",
    "\n",
    "    return 0;\n",
    "}"
   ]
  }
 ],
 "metadata": {
  "kernelspec": {
   "display_name": "C",
   "language": "c",
   "name": "c"
  },
  "language_info": {
   "file_extension": ".c",
   "mimetype": "text/plain",
   "name": "c"
  }
 },
 "nbformat": 4,
 "nbformat_minor": 2
}
