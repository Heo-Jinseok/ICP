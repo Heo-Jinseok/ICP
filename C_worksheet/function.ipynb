{
 "cells": [
  {
   "cell_type": "code",
   "execution_count": null,
   "metadata": {},
   "outputs": [],
   "source": [
    "#include <stdio.h>\n",
    "\n",
    "int multiply(int value);\n",
    "\n",
    "int main()\n",
    "{\n",
    "    int number, result;\n",
    "    printf(\"Etner a number\");\n",
    "    scanf(\"%d\", &number);\n",
    "    result = multiply(number);\n",
    "    printf(\"square of %d is %d\", number, result);\n",
    "    \n",
    "    return 0;\n",
    "}\n",
    "\n",
    "int multiply(int number)\n",
    "{\n",
    "    int result;\n",
    "    result = number * number;\n",
    "    return result;\n",
    "}"
   ]
  },
  {
   "cell_type": "code",
   "execution_count": null,
   "metadata": {},
   "outputs": [],
   "source": [
    "// Global varaible\n",
    "\n",
    "#include <stdio.h>\n",
    "\n",
    "double area(int num1, int num2);\n",
    "\n",
    "int main()\n",
    "{\n",
    "    double ans;\n",
    "    num1 = 23;\n",
    "    num2 = 30;\n",
    "    ans = area(num1, num2);\n",
    "    printf(\"Area = %f\\n\", ans);\n",
    "    \n",
    "    return 0;\n",
    "}\n",
    "\n",
    "double area(int num1, int num2)\n",
    "{\n",
    "    double result;\n",
    "    result = num1 * num2 / 2;\n",
    "    return m;\n",
    "}"
   ]
  },
  {
   "cell_type": "code",
   "execution_count": null,
   "metadata": {},
   "outputs": [],
   "source": [
    "// local variable\n",
    "\n",
    "#include <stdio.h>\n",
    "\n",
    "int main()\n",
    "{\n",
    "    int a = 7, b = 8;\n",
    "    printf(\"a = %d, b = %d\\n\", a, b);\n",
    "    {\n",
    "        int b = 10;\n",
    "        float c = 8.5;\n",
    "        printf(\"a = %d, b = %d, c = %f\\n\", a, b, c);\n",
    "        a = b;\n",
    "        ++a;\n",
    "        {\n",
    "            int c;\n",
    "            c = b;\n",
    "            --c;\n",
    "            printf(\"a = %d, b = %d, c = %d\\n\", a, b, c);\n",
    "        }\n",
    "    }\n",
    "    printf(\"a = %d, b = %d\\n\", a, b);\n",
    "}"
   ]
  },
  {
   "cell_type": "code",
   "execution_count": null,
   "metadata": {},
   "outputs": [],
   "source": [
    "// Static Variable\n",
    "\n",
    "#include <stdio.h>\n",
    "\n",
    "void static_test();\n",
    "int i = 1; // 이 줄을 main 또는 static_test 안으로 이동하면 어떤 결과가 나오나?\n",
    "\n",
    "int main()\n",
    "{\n",
    "    for(i; i <= 5; i++)\n",
    "        static_test();\n",
    "    \n",
    "    return 0;\n",
    "}\n",
    "\n",
    "void static_test()\n",
    "{\n",
    "    static int sum = 0;\n",
    "    sum = sum + 100;\n",
    "    printf(\"%d iteration, sum = %d\\n\", i, sum);\n",
    "}"
   ]
  }
 ],
 "metadata": {
  "kernelspec": {
   "display_name": "C",
   "language": "c",
   "name": "c"
  },
  "language_info": {
   "file_extension": ".c",
   "mimetype": "text/plain",
   "name": "c"
  }
 },
 "nbformat": 4,
 "nbformat_minor": 2
}
