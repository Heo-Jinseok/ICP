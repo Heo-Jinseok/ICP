{
 "cells": [
  {
   "cell_type": "markdown",
   "metadata": {},
   "source": [
    "#\n",
    "jupyter notebook에서는 scanf가 구현이 안되어 있음\n",
    "\n",
    "# scanf\n",
    "문자를 입력받기 위해 사용되는 명령은 ```scanf```이다. ```printf```에서 변수를 출력할 때 사용한 서식표시자를 똑같이 사용할 수 있다. 아래의 예를 살펴보자.\n",
    "\n",
    "기억해야 할 용법은 쌍따옴표 안에 서식지정자를 넣어야 하고, 변수 명 앞에 & 가 있어야 한다."
   ]
  },
  {
   "cell_type": "code",
   "execution_count": 8,
   "metadata": {},
   "outputs": [
    {
     "name": "stderr",
     "output_type": "stream",
     "text": [
      "/var/folders/m1/hm171h0s5_n7q4srcldvtxd80000gn/T/tmp346pjtmz.c:25:32: warning: format specifies type 'char *' but the argument has type 'char (*)[25]' [-Wformat]\n",
      "    sscanf(input_string, \"%s\", &string);\n",
      "                          ~~   ^~~~~~~\n",
      "1 warning generated.\n"
     ]
    },
    {
     "name": "stdout",
     "output_type": "stream",
     "text": [
      "input a number\n",
      "input a character type data: input a integer type data: input a float type data: input string type data: character type data character: \t2\n",
      "integer type data int_num: \t25\n",
      "float type data float: \t25.000000\n",
      "string type data string: \t25,67\n"
     ]
    }
   ],
   "source": [
    "#include <stdio.h>\n",
    "\n",
    "int main()\n",
    "{\n",
    "    int int_num;\n",
    "    char character;\n",
    "    float float_num;\n",
    "    char string[25];\n",
    "    \n",
    "    printf(\"input a number\\n\");\n",
    "\n",
    "    // insert data\n",
    "    printf(\"input a character type data: \");\n",
    "    sscanf(\"%c\", &character);\n",
    "    \n",
    "    printf(\"input a integer type data: \");\n",
    "    sscanf(\"%d\", &int_num);\n",
    "    \n",
    "    printf(\"input a float type data: \");\n",
    "    sscanf(\"%f\", &float_num);\n",
    "\n",
    "    printf(\"input string type data: \");\n",
    "    sscanf(\"%s\", &string);\n",
    "    \n",
    "    // print data\n",
    "    printf(\"character type data character: \\t%c\\n\", character);\n",
    "    printf(\"integer type data int_num: \\t%d\\n\", int_num);\n",
    "    printf(\"float type data float: \\t%f\\n\", float_num);\n",
    "    printf(\"string type data string: \\t%s\\n\", string);\n",
    "    \n",
    "    return 0;\n",
    "}"
   ]
  },
  {
   "cell_type": "markdown",
   "metadata": {},
   "source": [
    "다음과 같이 여러 값을 입력 받을 수 도 있다. 아래 코드를 실행하고 ```1 -20 .3 -4.0e3```을 적어 결과를 확인해보자. ```printf```문장은 직접 작성해보자. 숫자들 사이에 공백을 넣어서 입력해보자. 어떤 경우에 의도한대로 숫자가 표현되는지 차이를 확인해보자. "
   ]
  },
  {
   "cell_type": "code",
   "execution_count": 1,
   "metadata": {},
   "outputs": [],
   "source": [
    "#include <stdio.h>\n",
    "\n",
    "int main()\n",
    "{\n",
    "    int i, j;\n",
    "    float x, y;\n",
    "    scanf(\"%d%d%f%f\", &i, &j, &x, &y);\n",
    "    // printf(\"\");\n",
    "    return 0;\n",
    "}"
   ]
  },
  {
   "cell_type": "markdown",
   "metadata": {},
   "source": [
    "## 문제 1\n",
    "\n",
    "다음 코드는 사용자로부터 입력을 받지 않는 코드이다. 높이, 넓이, 길이의 값을 사용자가 입력하도록 코쳐보자. "
   ]
  },
  {
   "cell_type": "code",
   "execution_count": null,
   "metadata": {},
   "outputs": [],
   "source": [
    "#include <stdio.h>\n",
    " \n",
    "int main(void)\n",
    "{\n",
    "  int height, length, width, volume, weight;\n",
    " \n",
    "  height = 8;\n",
    "  length = 12;\n",
    "  width = 10;\n",
    "  volume = height * length * width;\n",
    "  weight = (volume + 165) / 166;\n",
    " \n",
    "  printf(\"Dimensions: %dx%dx%d\\n\", length, width, height);\n",
    "  printf(\"Volume (cubic inches): %d\\n\", volume);\n",
    "  printf(\"Dimensional weight (pounds): %d\\n\", weight);\n",
    " \n",
    "  return 0;\n",
    "}"
   ]
  },
  {
   "cell_type": "markdown",
   "metadata": {},
   "source": []
  }
 ],
 "metadata": {
  "kernelspec": {
   "display_name": "C",
   "language": "c",
   "name": "c"
  },
  "language_info": {
   "file_extension": ".c",
   "mimetype": "text/plain",
   "name": "c"
  }
 },
 "nbformat": 4,
 "nbformat_minor": 2
}
