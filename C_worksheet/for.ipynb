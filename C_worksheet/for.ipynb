{
 "cells": [
  {
   "cell_type": "markdown",
   "metadata": {},
   "source": [
    "# for\n"
   ]
  },
  {
   "cell_type": "code",
   "execution_count": null,
   "metadata": {},
   "outputs": [],
   "source": [
    "#include <stdio.h>\n",
    "\n",
    "int main()\n",
    "{\n",
    "    int i, sum;\n",
    "    sum = 0;\n",
    "    \n",
    "    for (i = 0; i <= 100; i = i + 1)\n",
    "    {\n",
    "        sum = sum + i;\n",
    "    }\n",
    "    \n",
    "    printf(\"sum of numbers from 1 to 100 is %d\\n\", sum);\n",
    "    \n",
    "    return 0;\n",
    "}"
   ]
  },
  {
   "cell_type": "code",
   "execution_count": 3,
   "metadata": {},
   "outputs": [
    {
     "name": "stdout",
     "output_type": "stream",
     "text": [
      "ASCII of * is 42\n",
      "ASCII of + is 43\n",
      "ASCII of , is 44\n",
      "ASCII of - is 45\n",
      "ASCII of . is 46\n",
      "ASCII of / is 47\n"
     ]
    }
   ],
   "source": [
    "#include <stdio.h>\n",
    "\n",
    "int main()\n",
    "{\n",
    "    int i, sum;\n",
    "    i = 42;\n",
    "    \n",
    "    for ( ; i <= 47; i++)\n",
    "    {\n",
    "        printf(\"ASCII of %C is %d\\n\", i, i);\n",
    "    }\n",
    "    \n",
    "    return 0;\n",
    "}"
   ]
  },
  {
   "cell_type": "code",
   "execution_count": 4,
   "metadata": {},
   "outputs": [
    {
     "name": "stdout",
     "output_type": "stream",
     "text": [
      "A\n",
      "AB\n",
      "ABC\n",
      "ABCD\n",
      "ABCDE\n"
     ]
    }
   ],
   "source": [
    "#include <stdio.h>\n",
    "\n",
    "int main()\n",
    "{\n",
    "    int row, col;\n",
    "    char char1;\n",
    "    for (row = 0; row < 5; row++)\n",
    "    {\n",
    "        char1 = 'A';\n",
    "        for(col = 0; col <= row; col++)\n",
    "        {\n",
    "            printf(\"%c\", char1+col);\n",
    "        }\n",
    "        printf(\"\\n\");\n",
    "    }\n",
    "    return 0;\n",
    "}"
   ]
  },
  {
   "cell_type": "code",
   "execution_count": null,
   "metadata": {},
   "outputs": [],
   "source": [
    "// 다음 루프의 결과를 답하시오\n",
    "for(value = 36; value > 0; value /= 2)\n",
    "    printf(\"%3d\", value);"
   ]
  },
  {
   "cell_type": "markdown",
   "metadata": {},
   "source": [
    "# 문제\n",
    "다음 결과를 만들어 내는 프로그램을 작성하시오\n",
    "```\n",
    "2 4 6 8 10\n",
    "3 6 9 12 15\n",
    "4 8 12 16 20\n",
    "5 10. 5 20 25\n",
    "6 12 18 24 30\n",
    "```"
   ]
  },
  {
   "cell_type": "markdown",
   "metadata": {},
   "source": [
    "# 문제\n",
    "다음은 구구단 프로그램이다. 틀린 부분을 찾아 수정하시오."
   ]
  },
  {
   "cell_type": "code",
   "execution_count": 10,
   "metadata": {},
   "outputs": [
    {
     "name": "stdout",
     "output_type": "stream",
     "text": [
      "1 x 1 = -1541727952\n",
      "1 x 2 = -1541727952\n",
      "1 x 3 = -1541727952\n",
      "1 x 4 = -1541727952\n",
      "1 x 5 = -1541727952\n",
      "1 x 6 = -1541727952\n",
      "1 x 7 = -1541727952\n",
      "1 x 8 = -1541727952\n",
      "1 x 9 = -1541727952\n",
      "2 x 1 = -1541727952\n",
      "2 x 2 = -1541727952\n",
      "2 x 3 = -1541727952\n",
      "2 x 4 = -1541727952\n",
      "2 x 5 = -1541727952\n",
      "2 x 6 = -1541727952\n",
      "2 x 7 = -1541727952\n",
      "2 x 8 = -1541727952\n",
      "2 x 9 = -1541727952\n",
      "3 x 1 = -1541727952\n",
      "3 x 2 = -1541727952\n",
      "3 x 3 = -1541727952\n",
      "3 x 4 = -1541727952\n",
      "3 x 5 = -1541727952\n",
      "3 x 6 = -1541727952\n",
      "3 x 7 = -1541727952\n",
      "3 x 8 = -1541727952\n",
      "3 x 9 = -1541727952\n",
      "4 x 1 = -1541727952\n",
      "4 x 2 = -1541727952\n",
      "4 x 3 = -1541727952\n",
      "4 x 4 = -1541727952\n",
      "4 x 5 = -1541727952\n",
      "4 x 6 = -1541727952\n",
      "4 x 7 = -1541727952\n",
      "4 x 8 = -1541727952\n",
      "4 x 9 = -1541727952\n",
      "5 x 1 = -1541727952\n",
      "5 x 2 = -1541727952\n",
      "5 x 3 = -1541727952\n",
      "5 x 4 = -1541727952\n",
      "5 x 5 = -1541727952\n",
      "5 x 6 = -1541727952\n",
      "5 x 7 = -1541727952\n",
      "5 x 8 = -1541727952\n",
      "5 x 9 = -1541727952\n",
      "6 x 1 = -1541727952\n",
      "6 x 2 = -1541727952\n",
      "6 x 3 = -1541727952\n",
      "6 x 4 = -1541727952\n",
      "6 x 5 = -1541727952\n",
      "6 x 6 = -1541727952\n",
      "6 x 7 = -1541727952\n",
      "6 x 8 = -1541727952\n",
      "6 x 9 = -1541727952\n",
      "7 x 1 = -1541727952\n",
      "7 x 2 = -1541727952\n",
      "7 x 3 = -1541727952\n",
      "7 x 4 = -1541727952\n",
      "7 x 5 = -1541727952\n",
      "7 x 6 = -1541727952\n",
      "7 x 7 = -1541727952\n",
      "7 x 8 = -1541727952\n",
      "7 x 9 = -1541727952\n",
      "8 x 1 = -1541727952\n",
      "8 x 2 = -1541727952\n",
      "8 x 3 = -1541727952\n",
      "8 x 4 = -1541727952\n",
      "8 x 5 = -1541727952\n",
      "8 x 6 = -1541727952\n",
      "8 x 7 = -1541727952\n",
      "8 x 8 = -1541727952\n",
      "8 x 9 = -1541727952\n",
      "9 x 1 = -1541727952\n",
      "9 x 2 = -1541727952\n",
      "9 x 3 = -1541727952\n",
      "9 x 4 = -1541727952\n",
      "9 x 5 = -1541727952\n",
      "9 x 6 = -1541727952\n",
      "9 x 7 = -1541727952\n",
      "9 x 8 = -1541727952\n",
      "9 x 9 = -1541727952\n"
     ]
    }
   ],
   "source": [
    "#include <stdio.h>\n",
    "\n",
    "int main()\n",
    "{\n",
    "    int i, j, s;\n",
    "    for(i = 1; i <= 9; i++)\n",
    "        for(j = 1; j <= 9; j++)\n",
    "        {\n",
    "            printf(\"%d x %d = %d\\n\", i, j, s);\n",
    "        }\n",
    "        s = i * j;\n",
    "}"
   ]
  }
 ],
 "metadata": {
  "kernelspec": {
   "display_name": "C",
   "language": "c",
   "name": "c"
  },
  "language_info": {
   "file_extension": ".c",
   "mimetype": "text/plain",
   "name": "c"
  }
 },
 "nbformat": 4,
 "nbformat_minor": 2
}
