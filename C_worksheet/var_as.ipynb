{
 "cells": [
  {
   "cell_type": "markdown",
   "metadata": {},
   "source": [
    "# \n",
    "\n"
   ]
  },
  {
   "cell_type": "markdown",
   "metadata": {},
   "source": [
    "# 변수 할당\n",
    "변수의 할당에는 몇 가지 다른 방법이 있지만, 원리는 똑같다. 항상 다음의 5가지 구성요소로 되어 있다. 다음 문자열을 보자.\n",
    "```int height = 180;```\n",
    "* 처음에 등장하는 ```int```는 자료형이라고 한다.\n",
    "* 두번째 등장하는 ```height```는 변수의 이름이다. \n",
    "* 세번째 등장하는 ```=```는 대입연산자이다.\n",
    "* 네번째 등장하는 ```180```는 변수에 저장될 값이다. \n",
    "* 다섯번째 등장하는 ```;```는 문장의 끝을 나타내는 마침표이다."
   ]
  },
  {
   "cell_type": "markdown",
   "metadata": {},
   "source": [
    "## 문제 1\n",
    "다음의 변수 할당 예를 살펴 보자. 또 다른 방법은 없는지 찾아보자. 몇 개의 변수까지 한 번에 선언할 수 있을까?  "
   ]
  },
  {
   "cell_type": "code",
   "execution_count": null,
   "metadata": {},
   "outputs": [],
   "source": [
    "#include <stdio.h>\n",
    "\n",
    "int main()\n",
    "{\n",
    "    // type 1 declaration & initialization\n",
    "    int height = 180;\n",
    "    \n",
    "    // type 2 \n",
    "    int length;   // declaration\n",
    "    length = 180; // initialization\n",
    "    \n",
    "    // type 3 multiples of type1 \n",
    "    int height1 = 180, length1 = 180;\n",
    "    \n",
    "    // type 4 type2, 3 mixed\n",
    "    int height2 = 180, length2;\n",
    "    length2 = 180;\n",
    "    \n",
    "    printf(\"%d\\n\", height);\n",
    "    \n",
    "    return 0;\n",
    "}"
   ]
  },
  {
   "cell_type": "markdown",
   "metadata": {},
   "source": [
    "# 변수 자료형\n",
    "\n",
    "C언어는 자료형(type)을 매우 중요하고 엄격하게 지켜야한다. 화면에 문자/숫자를 출력하거나 입력을 받을 때에도 자료형이 사용되고 연산을 할 때도 문자형이 사용된다. 값을 저장하는 변수에도 문자형이 꼭 필요하다. 아래 중요한 문자형들이 나열되어 있다. \n",
    "\n",
    "* char   : 문자형, 1byte\n",
    "* int    : 정수형, 4byte\n",
    "* short  : 정수형, 2byte\n",
    "* long   : 정수형, 8byte\n",
    "* float  : 실수형, 4byte\n",
    "* double : 실수형, 8byte"
   ]
  },
  {
   "cell_type": "markdown",
   "metadata": {},
   "source": [
    "## 문제 2\n",
    "다음의 예제 코드는 자료형의 크기를 확인하는 코드이다. 자료형의 크기는 CPU 아키텍처의 종류에 따라 다를 수 있다. 아래 코드를 수정하여 다른 자료형들의 크기를 확인해보자. (```printf```는 쌍따옴펴의 글자들을 출력하는 함수이다. ```%lu```는 뒤에 따라오는 인자의 값의 서식을 정하는 서식지정자이다. "
   ]
  },
  {
   "cell_type": "code",
   "execution_count": 7,
   "metadata": {},
   "outputs": [
    {
     "name": "stdout",
     "output_type": "stream",
     "text": [
      "8"
     ]
    }
   ],
   "source": [
    "#include <stdio.h>\n",
    "\n",
    "int main()\n",
    "{\n",
    "    printf(\"%lu \\n\", sizeof(double));\n",
    "    return 0;\n",
    "}"
   ]
  },
  {
   "cell_type": "markdown",
   "metadata": {},
   "source": [
    "다음 예를 살펴보고 연산자의 종류에 대해 이해해보자"
   ]
  },
  {
   "cell_type": "code",
   "execution_count": 10,
   "metadata": {},
   "outputs": [
    {
     "name": "stdout",
     "output_type": "stream",
     "text": [
      "num1 + num2; = 12\n",
      "num1 - num2; = -2\n",
      "num1 * num2; = 35\n",
      "num2/num1; = 1\n",
      "num1%num2; = 2\n"
     ]
    }
   ],
   "source": [
    "#include <stdio.h>\n",
    "\n",
    "int main()\n",
    "{\n",
    "    int add, sub, mul, dev, modular;\n",
    "    int num1 = 5, num2 = 7;\n",
    "    \n",
    "    add = num1 + num2;\n",
    "    sub = num1 - num2;\n",
    "    mul = num1 * num2;\n",
    "    dev = num2/num1;\n",
    "    modular = num2%num1;\n",
    "    \n",
    "    printf(\"num1 + num2; = %d\\n\", add);\n",
    "    printf(\"num1 - num2; = %d\\n\", sub);\n",
    "    printf(\"num1 * num2; = %d\\n\", mul);\n",
    "    printf(\"num2/num1; = %d\\n\", dev);\n",
    "    printf(\"num1%%num2; = %d\\n\", modular);\n",
    "    return 0;\n",
    "}"
   ]
  },
  {
   "cell_type": "markdown",
   "metadata": {},
   "source": [
    "## 문제 3\n",
    "위의 코드에서 나눗셈의 결과는 실수인데, 정수부의 값만 출력된다. 수정하여 소숫점까지 나오도록 해보자. "
   ]
  },
  {
   "cell_type": "markdown",
   "metadata": {},
   "source": [
    "## 문제 4\n",
    "\n",
    "변수명으로 사용할 수 있는 문자 조합과 불가능한 조합이 있다. 그 조합을 찾아보자. 다음과 같은 변수명들은 사용가능한 조합인지 코드를 작성하여 확인해보자\n",
    "* times10\n",
    "* _done\n",
    "* __done\n",
    "* 10times\n",
    "* get_next_char\n",
    "* get_next-char\n",
    "* get-next-char\n",
    "* job\n",
    "* joB\n",
    "* JoB"
   ]
  },
  {
   "cell_type": "code",
   "execution_count": null,
   "metadata": {},
   "outputs": [],
   "source": [
    "#include <stdio.h>\n",
    "\n",
    "int main()\n",
    "{\n",
    "    // your code here\n",
    "}"
   ]
  },
  {
   "cell_type": "markdown",
   "metadata": {},
   "source": [
    "# define 문\n",
    "\n",
    "숫자는 사람이 기억하기 어렵기 때문에 숫자에 이름을 달아 쓰는 경우가 흔하다. 예를 들어 핸드폰 모델이 MQAF2KH이라는 조합일 때는 기억하지 못하지만, Galaxy S9이라고 하면 쉽게 기억하는 것과 같은 이치이다. 문자의 수는 더 많지만, 의미가 있기 때문에 더 쉽게 기억할 수 있다. 이와 같은 방식으로 C에서도 문자에 이름을 붙여 줄 수 있다. 다음의 예를 보자."
   ]
  },
  {
   "cell_type": "code",
   "execution_count": 24,
   "metadata": {},
   "outputs": [
    {
     "name": "stdout",
     "output_type": "stream",
     "text": [
      "radius of a circle with radius 5 = 98.696003"
     ]
    }
   ],
   "source": [
    "#include <stdio.h>\n",
    "#define PI 3.141592\n",
    "\n",
    "int main()\n",
    "{\n",
    "    printf(\"radius of a circle with radius 5 = %f\", 2*PI*PI*5);\n",
    "    return 0;\n",
    "}"
   ]
  },
  {
   "cell_type": "markdown",
   "metadata": {},
   "source": [
    "## 문제 4\n",
    "다음의 코드에서 상수에 해당하는 값들에 이름을 부여해보자. 32.0은 FR, (5.0 / 9.0) 은 SF라고 이름을 붙여 보자. 여기서 scanf는 사용자로부터 값을 입력받는 합수이다. "
   ]
  },
  {
   "cell_type": "code",
   "execution_count": 22,
   "metadata": {},
   "outputs": [
    {
     "name": "stdout",
     "output_type": "stream",
     "text": [
      "Enter Fahrenheit temperature: Celsius equivalent: -17.8\n"
     ]
    }
   ],
   "source": [
    "/* Converts a Fahrenheit temperature to Celsius */\n",
    "\n",
    "#include <stdio.h>\n",
    "\n",
    "//#define \n",
    "//#define \n",
    "\n",
    "int main(void)\n",
    "{\n",
    "    float fahrenheit = 39.0, celsius;\n",
    "\n",
    "    celsius = (fahrenheit - 32.0) * (5.0/9.0);\n",
    "\n",
    "    printf(\"Celsius equivalent: %.1f\\n\", celsius);\n",
    "\n",
    "    return 0;\n",
    "}\n"
   ]
  },
  {
   "cell_type": "markdown",
   "metadata": {},
   "source": [
    "# 관계 연산자\n"
   ]
  },
  {
   "cell_type": "code",
   "execution_count": null,
   "metadata": {},
   "outputs": [],
   "source": [
    "#include <stdio.h>\n",
    "\n",
    "int main(void)\n",
    "{\n",
    "    int num1 = 5, num2 = 1, num3 = 10;\n",
    "    int result1, result2, result3;\n",
    "    \n",
    "    result1 = num1 > num2;\n",
    "    result2 = num2 == num3 > num1;\n",
    "    result3 = num1 < num2 < num3;\n",
    "    \n",
    "    printf(\"result1 = %d\\n\", result1);\n",
    "    printf(\"result2 = %d\\n\", result2);\n",
    "    printf(\"result3 = %d\\n\", result3);\n",
    "    printf(\"result1 >= result2 %d\\n\", result1 >= result2);\n",
    "    printf(\"result1 != result3 %d\\n\", result1 != result3);\n",
    "    printf(\"result1 == result1 %d\\n\", result1 == result1);\n",
    "\n",
    "    return 0;\n",
    "}\n"
   ]
  },
  {
   "cell_type": "markdown",
   "metadata": {},
   "source": [
    "# 논리 연산자"
   ]
  },
  {
   "cell_type": "code",
   "execution_count": null,
   "metadata": {},
   "outputs": [],
   "source": [
    "#include <stdio.h>\n",
    "\n",
    "int main(void)\n",
    "{\n",
    "    int num1 = 7, num2 = 2, num3 = 5;\n",
    "    int result1, result2, result3, result4;\n",
    "    \n",
    "    result1 = !num1;\n",
    "    result2 = !0;\n",
    "    result3 = num1 < num2 || num2 != num3;\n",
    "    result4 = num1 - 4 || num1 != num2 && 2 + 2! = num3;\n",
    "    \n",
    "    printf(\"result1 = %d\\n\", result1);\n",
    "    printf(\"result2 = %d\\n\", result2);\n",
    "    printf(\"result3 = %d\\n\", result3);\n",
    "    printf(\"result4 = %d\\n\", result4);\n",
    "    \n",
    "    return 0;\n",
    "}"
   ]
  },
  {
   "cell_type": "markdown",
   "metadata": {},
   "source": [
    "# 비트 논리 연산자"
   ]
  },
  {
   "cell_type": "code",
   "execution_count": null,
   "metadata": {},
   "outputs": [],
   "source": [
    "#include <stdio.h>\n",
    "\n",
    "int main(void)\n",
    "{\n",
    "    int num1 = 7, num2 = 2, num3 = 5;\n",
    "    int result1, result2, result3;\n",
    "    \n",
    "    result1 = num2 & num3;\n",
    "    result2 = num1 ^ num2;\n",
    "    result3 = num1 | num3;\n",
    "    \n",
    "    printf(\"result1 = %d\\n\", result1);\n",
    "    printf(\"result2 = %d\\n\", result2);\n",
    "    printf(\"result3 = %d\\n\", result3);\n",
    "    \n",
    "    return 0;\n",
    "}"
   ]
  },
  {
   "cell_type": "markdown",
   "metadata": {},
   "source": [
    "# 증감 연산자"
   ]
  },
  {
   "cell_type": "code",
   "execution_count": null,
   "metadata": {},
   "outputs": [],
   "source": [
    "#include <stdio.h>\n",
    "\n",
    "int main(void)\n",
    "{\n",
    "    int num1 = 5, num2 = 7, num3 = 12;\n",
    "    int result1, result2, result3;\n",
    "    \n",
    "    result1 = ++num1 + ++num2;\n",
    "    result2 = num3++;\n",
    "    result3 = num2-- - ++num1 + ++num1 + num2--;\n",
    "    \n",
    "    printf(\"result1 = %d\\n\", result1);\n",
    "    printf(\"result2 = %d\\n\", result2);\n",
    "    printf(\"result3 = %d\\n\", result3);\n",
    "    \n",
    "    printf(\"num1 = %d, num2 = %d, num3 = %d\\n\", num1, num2, num3);\n",
    "    \n",
    "    return 0;\n",
    "}"
   ]
  },
  {
   "cell_type": "markdown",
   "metadata": {},
   "source": [
    "# 조건 연산자"
   ]
  },
  {
   "cell_type": "code",
   "execution_count": null,
   "metadata": {},
   "outputs": [],
   "source": [
    "#include <stdio.h>\n",
    "\n",
    "int main(void)\n",
    "{\n",
    "    int num1 = 12, num2 = 8, num3 = 21, min;\n",
    "    \n",
    "    min = (num1 < num2) ? num1 : num2;\n",
    "    min = (min  < num3) ? min  : num3; \n",
    "     \n",
    "    printf(\"Minimum number = %d\\n\", min);\n",
    "    \n",
    "    return 0;\n",
    "}"
   ]
  },
  {
   "cell_type": "markdown",
   "metadata": {},
   "source": [
    "# 대입 연산자"
   ]
  },
  {
   "cell_type": "code",
   "execution_count": 13,
   "metadata": {},
   "outputs": [
    {
     "name": "stdout",
     "output_type": "stream",
     "text": [
      "x = 35, y = 25, z = 25\n",
      "x = 50, y = 50, z = 25\n",
      "x = 75, y = 50, z = 25\n",
      "x = 125, y = 50, z = 25\n",
      "x = 2, y = 50, z = 25\n",
      "x = 0, y = 50, z = 25\n"
     ]
    }
   ],
   "source": [
    "#include <stdio.h>\n",
    "\n",
    "int main(void)\n",
    "{\n",
    "    int x = 10, y = 5, z =25;\n",
    "    \n",
    "    x += y = z;\n",
    "    printf(\"x = %d, y = %d, z = %d\\n\", x, y, z);\n",
    "    \n",
    "    x = y += z;\n",
    "    printf(\"x = %d, y = %d, z = %d\\n\", x, y, z);\n",
    "    \n",
    "    x += y - z;\n",
    "    printf(\"x = %d, y = %d, z = %d\\n\", x, y, z);\n",
    "    \n",
    "    x += y;\n",
    "    printf(\"x = %d, y = %d, z = %d\\n\", x, y, z);\n",
    "    \n",
    "    x %= 3;\n",
    "    printf(\"x = %d, y = %d, z = %d\\n\", x, y, z);\n",
    "\n",
    "    x /= y + 2;\n",
    "    printf(\"x = %d, y = %d, z = %d\\n\", x, y, z);\n",
    "    \n",
    "    return 0;\n",
    "}"
   ]
  },
  {
   "cell_type": "markdown",
   "metadata": {},
   "source": [
    "# 형 변환 연산자"
   ]
  },
  {
   "cell_type": "code",
   "execution_count": 26,
   "metadata": {},
   "outputs": [
    {
     "name": "stdout",
     "output_type": "stream",
     "text": [
      "division = 2\n",
      "type conversion = 2.43\n"
     ]
    }
   ],
   "source": [
    "#include <stdio.h>\n",
    "\n",
    "int main()\n",
    "{\n",
    "    int num1 = 7, num2 = 17;\n",
    "    printf(\"division = %d\\n\", num2/num1);\n",
    "    printf(\"type conversion = %.2f\\n\", (float)num2/num1);\n",
    "    return 0;\n",
    "}"
   ]
  },
  {
   "cell_type": "code",
   "execution_count": null,
   "metadata": {},
   "outputs": [],
   "source": []
  }
 ],
 "metadata": {
  "kernelspec": {
   "display_name": "C",
   "language": "c",
   "name": "c"
  },
  "language_info": {
   "file_extension": ".c",
   "mimetype": "text/plain",
   "name": "c"
  }
 },
 "nbformat": 4,
 "nbformat_minor": 2
}
