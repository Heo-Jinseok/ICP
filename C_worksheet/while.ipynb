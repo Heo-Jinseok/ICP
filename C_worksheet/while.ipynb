{
 "cells": [
  {
   "cell_type": "markdown",
   "metadata": {},
   "source": [
    "# while\n"
   ]
  },
  {
   "cell_type": "code",
   "execution_count": 2,
   "metadata": {},
   "outputs": [
    {
     "name": "stdout",
     "output_type": "stream",
     "text": [
      "A\n",
      "AB\n",
      "ABC\n",
      "ABCD\n",
      "ABCDE\n"
     ]
    }
   ],
   "source": [
    "#include <stdio.h>\n",
    "\n",
    "int main()\n",
    "{\n",
    "    int row, col;\n",
    "    char char1;\n",
    "    row = col = 0;\n",
    "    \n",
    "    while(row < 5)\n",
    "    {\n",
    "        char1 = 'A';\n",
    "        while(col <= row)\n",
    "        {\n",
    "            printf(\"%c\", char1+col);\n",
    "            col++;\n",
    "        }\n",
    "        row++;\n",
    "        col = 0;\n",
    "        printf(\"\\n\");\n",
    "    }\n",
    "    \n",
    "    return 0;\n",
    "}"
   ]
  },
  {
   "cell_type": "markdown",
   "metadata": {},
   "source": [
    "# 문제\n",
    "다음 프로그램을 실행 한 후의 j의 값을 예상해보자"
   ]
  },
  {
   "cell_type": "code",
   "execution_count": null,
   "metadata": {},
   "outputs": [],
   "source": [
    "#include <stdio.h>\n",
    "\n",
    "int main()\n",
    "{\n",
    "    int i, k, j = 0;\n",
    "    for(i = 1; i <= 3; i++)\n",
    "    {\n",
    "        k = 1;\n",
    "        while(K <= 3)\n",
    "        {\n",
    "            j + j + i;\n",
    "            k++;\n",
    "            printf(\"%d\", j);\n",
    "        }\n",
    "    }\n",
    "    return 0;\n",
    "}"
   ]
  }
 ],
 "metadata": {
  "kernelspec": {
   "display_name": "C",
   "language": "c",
   "name": "c"
  },
  "language_info": {
   "file_extension": ".c",
   "mimetype": "text/plain",
   "name": "c"
  }
 },
 "nbformat": 4,
 "nbformat_minor": 2
}
