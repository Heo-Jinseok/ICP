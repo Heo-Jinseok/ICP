{
 "cells": [
  {
   "cell_type": "markdown",
   "metadata": {},
   "source": [
    "# 3 일차\n",
    "# For Loops의 이해\n",
    "5명의 팀을 구성하여 의논하여 다음 코드의 실행 결과를 예상해보자.\n",
    "\n",
    "아래 명령은 미리 정의되어 있는 명령어들의 집합을 쓸 수 있도록 한다. 거북이를 사용하여 그림을 그릴 수 있는 명령어 집합을 제공한다."
   ]
  },
  {
   "cell_type": "code",
   "execution_count": 1,
   "metadata": {},
   "outputs": [],
   "source": [
    "import turtle as t"
   ]
  },
  {
   "cell_type": "markdown",
   "metadata": {},
   "source": [
    "## 문제 1\n",
    "다음의 명령들 중에서 ```range```라는 명령은 반복을 하도록 하는 명령(함수)이다. 아래 코드의 실행 결과를 예상해보자."
   ]
  },
  {
   "cell_type": "code",
   "execution_count": null,
   "metadata": {},
   "outputs": [],
   "source": [
    "for x in range(3):\n",
    "    t.forward(100)\n",
    "    t.left(120)"
   ]
  },
  {
   "cell_type": "code",
   "execution_count": null,
   "metadata": {},
   "outputs": [],
   "source": [
    "for x in range(1, 4):\n",
    "    t.forward(100)\n",
    "    t.left(90)"
   ]
  },
  {
   "cell_type": "code",
   "execution_count": null,
   "metadata": {},
   "outputs": [],
   "source": [
    "for x in range(5):\n",
    "    print(x)"
   ]
  },
  {
   "cell_type": "code",
   "execution_count": null,
   "metadata": {},
   "outputs": [],
   "source": [
    "for x in range(3, 6):\n",
    "    print(x)"
   ]
  },
  {
   "cell_type": "code",
   "execution_count": null,
   "metadata": {},
   "outputs": [],
   "source": [
    "for x in range(3, 8, 2):\n",
    "    print(x)"
   ]
  },
  {
   "cell_type": "markdown",
   "metadata": {},
   "source": [
    "# 문제 2\n",
    "하나의 이름에 하나의 값만 저장하는 것을 보고 변수라고 부른다. 하나의 이름을 갖고 있지만 여러 개의 다른 값을 저장하는 것도 변수이기는 한데, 특별히 배열이라는 부른다. 대괄호를 쓰고 그 안에 값들을 쉼표로 구분하면 된다. 아래의 예를 실행해서 어떻게 동작하는지 확인해보자. "
   ]
  },
  {
   "cell_type": "code",
   "execution_count": null,
   "metadata": {},
   "outputs": [],
   "source": [
    "primes = [2, 3, 5, 7]  # primes라는 변수에 값이 4개가 저장되어 있음\n",
    "for prime in primes: # primes는 배열이라는 타입을 갖고 있음\n",
    "    print(prime)"
   ]
  },
  {
   "cell_type": "markdown",
   "metadata": {},
   "source": [
    "```for``` 문을 사용하여 다음과 같은 결과를 출력하는 프로그램을 작성해보자. \n",
    "```\n",
    "Great, delicious ham \n",
    "Great, delicious eggs \n",
    "Great, delicious nuts \n",
    "```"
   ]
  },
  {
   "cell_type": "code",
   "execution_count": 2,
   "metadata": {},
   "outputs": [],
   "source": [
    "# your code here"
   ]
  },
  {
   "cell_type": "markdown",
   "metadata": {},
   "source": [
    "# 문제 3\n",
    "다음 코드의 예상 결과를 작성해보자."
   ]
  },
  {
   "cell_type": "code",
   "execution_count": null,
   "metadata": {},
   "outputs": [],
   "source": [
    "n = 100 \n",
    "sum = 0 \n",
    "for counter in range(1,n+1): \n",
    "    sum = sum + counter \n",
    "    print(\"sum of 1 until \", n, \": \", sum)\n"
   ]
  },
  {
   "cell_type": "code",
   "execution_count": null,
   "metadata": {},
   "outputs": [],
   "source": [
    "for i in range(0, 5):\n",
    "    for j in range(0, i+1):\n",
    "        print(\"* \", end=\"\") # end=\"\" 는 줄바꿈을 하지 않는다는 뜻\n",
    "        \n",
    "    print(\"\\r\") # “\\r”는 줄바꿈을 한다는 뜻\n"
   ]
  },
  {
   "cell_type": "markdown",
   "metadata": {},
   "source": [
    "# 문제 4\n",
    "아래와 같이 출력하는 프로그램을 작성해보자\n",
    "```\n",
    "         *\n",
    "       * *\n",
    "     * * * \n",
    "   * * * *\n",
    " * * * * * \n",
    "```"
   ]
  },
  {
   "cell_type": "code",
   "execution_count": null,
   "metadata": {},
   "outputs": [],
   "source": [
    "# your code here"
   ]
  }
 ],
 "metadata": {
  "kernelspec": {
   "display_name": "Python 3",
   "language": "python",
   "name": "python3"
  },
  "language_info": {
   "codemirror_mode": {
    "name": "ipython",
    "version": 3
   },
   "file_extension": ".py",
   "mimetype": "text/x-python",
   "name": "python",
   "nbconvert_exporter": "python",
   "pygments_lexer": "ipython3",
   "version": "3.6.5"
  }
 },
 "nbformat": 4,
 "nbformat_minor": 2
}
