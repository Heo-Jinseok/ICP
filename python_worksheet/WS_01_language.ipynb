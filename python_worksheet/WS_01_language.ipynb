{
 "cells": [
  {
   "cell_type": "markdown",
   "metadata": {},
   "source": [
    "# 1 일차\n",
    "\n",
    "# 사람의 언어와 컴퓨터의 언어의 차이 이해\n",
    "\n",
    "## 사람의 언어\n",
    "* 두 명이 한 팀이다. \n",
    "* 한 명은 펜을 들고 눈을 감는다. \n",
    "* 다른 사람은 펜을 든 사람에게 명령한다.\n",
    "* 펜을 든 사람은 다른 사람의 명령에 따라 S에서 E까지 선을 긋되 다른 선에 닿지 않도록 한다.\n",
    "* 옆의 팀과 비교하여 어느 팀이 더 섬세하게 선을 그렸는지 보자.\n",
    "\n",
    "![snail](figure/snail1.png)\n",
    "\n"
   ]
  },
  {
   "cell_type": "markdown",
   "metadata": {},
   "source": [
    "## 컴퓨터 언어의 모사\n",
    "* 반복적으로 똑같은 결과를 얻을 수 있으려면 어떻게 해야 하는지 4명이 의논해보자.\n",
    "![snail2](figure/snail2.png)\n",
    "* 위의 그림을 사용하여 똑같이 S에서 E까지 선을 그려보자. 단, 역할을 바꾸고, 격자를 최대한 활용하여 선을 그려보자.\n",
    "* 위와 같은 관점에서 프로그래밍 언어를 정의 해보자\n",
    "* 결과를 정리해서 piazza에 등록하자\n"
   ]
  },
  {
   "cell_type": "markdown",
   "metadata": {},
   "source": [
    "# 순서도 (Flow chart)\n",
    "\n",
    "모든 동작은 순서도로 표현할 수 있다. 아래의 그림을 보자. \n",
    "![flow](figure/flow_chart.png)\n",
    "\n",
    "문제가 발생했을 때, 조건에 따라 왼쪽 오른쪽으로 이동하면서 문제를 해결할 수 있다. "
   ]
  },
  {
   "cell_type": "markdown",
   "metadata": {},
   "source": [
    "## 흐름도 실습\n",
    "1. 자동차를 평행주차하는 방법\n",
    "2. 라면을 끓이는 방법\n",
    "3. 커피샵 직원의 하루 (음료 만드는 과정, 출근하여 퇴근까지)\n",
    "4. 수강신청하는 방법 (1학년 때 들어야 하는 모든 과목을 예로)\n",
    "5. 영화 예매 시스템의 동작 방법 (할인 카드, 다수의 동반 인원과 영화 종류 등을 모두 포함하여)\n",
    "6. 기상해서 학교를 오는 과정(구성원들의 일상을 모두 반영)\n"
   ]
  },
  {
   "cell_type": "markdown",
   "metadata": {},
   "source": [
    "# TO DO\n",
    "* 리눅스 설치하기\n",
    "* 리눅스에 파이썬 설치하고 실행하기\n",
    "* ```print``` 함수를 써서 자기 이름 써보기\n",
    "* 책의 Day02, 03 읽어오기"
   ]
  }
 ],
 "metadata": {
  "kernelspec": {
   "display_name": "Python 3",
   "language": "python",
   "name": "python3"
  },
  "language_info": {
   "codemirror_mode": {
    "name": "ipython",
    "version": 3
   },
   "file_extension": ".py",
   "mimetype": "text/x-python",
   "name": "python",
   "nbconvert_exporter": "python",
   "pygments_lexer": "ipython3",
   "version": "3.6.5"
  }
 },
 "nbformat": 4,
 "nbformat_minor": 2
}
