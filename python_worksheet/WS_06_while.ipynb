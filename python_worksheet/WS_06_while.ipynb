{
 "cells": [
  {
   "cell_type": "markdown",
   "metadata": {},
   "source": [
    "# 6일차\n",
    "5명이 한 팀으로 문제를 풀어보자.\n",
    "\n",
    "# while loop\n",
    "\n",
    "# 문제 1\n",
    "프로그램이 1부터 100 사이의 임의 값을 정하면, 사용자가 그 값을 찾는 프로그램을 작성하자. 동작하는 방식은 다음과 같다. 사용자가 입력한 값이 프로그램에서 정한 값보다 큰지 또는 작은지를 알려주고 다시 사용자에게 값을 입력하도록 요청한다. 정한 값과 같다면 축하메시지를 출력한다. 단, ```while```문을 사용해보자."
   ]
  },
  {
   "cell_type": "code",
   "execution_count": null,
   "metadata": {},
   "outputs": [],
   "source": [
    "#import random\n",
    "\n",
    "num = random.randint(1, 100)\n",
    "# your code here"
   ]
  },
  {
   "cell_type": "markdown",
   "metadata": {},
   "source": [
    "# 문제 2\n",
    "다음 코드를 실행해보기 전에 동작이 어떻게 되는지 생각해보고 실행한 후, 예상과 같은지 비교해보자."
   ]
  },
  {
   "cell_type": "code",
   "execution_count": null,
   "metadata": {},
   "outputs": [],
   "source": [
    "#1\n",
    "count = 0\n",
    "while (count < 9): \n",
    "    print(\"The count is:\", count) \n",
    "    count = count + 1\n",
    "    \n",
    "print(\"Good Bye!\")"
   ]
  },
  {
   "cell_type": "code",
   "execution_count": null,
   "metadata": {},
   "outputs": [],
   "source": [
    "#2\n",
    "# input과 print의 실행 결과가 순서에 맞게 출력 안될 수 있는 것을 유의하기 바랍니다\n",
    "# jupyter notebook 의 버그임. 터미널에서 실행했을 때는 순서에 맞게 출력 됨\n",
    "var = 0 \n",
    "num = 2\n",
    "while var < num : \n",
    "    num = int(input(\"Enter a number :\")) \n",
    "    print(\"You entered: \", num)\n",
    "\n",
    "print(\"Good Bye!\")"
   ]
  },
  {
   "cell_type": "code",
   "execution_count": null,
   "metadata": {},
   "outputs": [],
   "source": [
    "#3\n",
    "count = 0 \n",
    "while count < 5: \n",
    "    print(count, \" is less than 5”)\n",
    "    count = count + 1 \n",
    "else: \n",
    "    print(count, \" is not less than 5”)\n"
   ]
  },
  {
   "cell_type": "markdown",
   "metadata": {},
   "source": [
    "# 문제 3\n",
    "다음의 코드는 1 부터 100까지의 숫자의 합을 구하는 프로그램을 ```for``` 문을 사용하여 구현한 것이다. ```while```문을 사용하도록 바꿔보자. "
   ]
  },
  {
   "cell_type": "code",
   "execution_count": null,
   "metadata": {},
   "outputs": [],
   "source": [
    "sum = 0\n",
    "for i in range(1, 101):\n",
    "    sum = sum + i\n",
    "    \n",
    "print(sum)\n",
    "        \n",
    "# your code here"
   ]
  },
  {
   "cell_type": "markdown",
   "metadata": {},
   "source": [
    "# 문제 4\n",
    "다음의 순서도를 보고 코드를 작성해보자\n",
    "\n",
    "![flow_while](figure/flow_while.png)"
   ]
  },
  {
   "cell_type": "code",
   "execution_count": null,
   "metadata": {},
   "outputs": [],
   "source": [
    "# your code here"
   ]
  },
  {
   "cell_type": "markdown",
   "metadata": {},
   "source": [
    "# 문제 5\n",
    "구구단을 다음과 같이 구성하여 출력하도록 코딩해보자. 단 ```while```문을 사용해야 한다.\n",
    "코드의 길이를 최대한 짧게 만들어 보자.\n",
    "\n",
    "![multi](figure/mult_table.png)"
   ]
  },
  {
   "cell_type": "code",
   "execution_count": null,
   "metadata": {},
   "outputs": [],
   "source": [
    "# your code here"
   ]
  },
  {
   "cell_type": "markdown",
   "metadata": {},
   "source": [
    "# 숙제\n",
    "\n",
    "1. 사용자가 입력한 값의 팩토리알을 계산하는 프로그램을 작성해보자.\n",
    "2. 사용자가 q를 입력하기 전까지 종료하지 않는 프로그램에 수를 입력하면 입력된 숫자들의 합과 평균을 구하는 프로그램을 작성해보자."
   ]
  }
 ],
 "metadata": {
  "kernelspec": {
   "display_name": "Python 3",
   "language": "python",
   "name": "python3"
  },
  "language_info": {
   "codemirror_mode": {
    "name": "ipython",
    "version": 3
   },
   "file_extension": ".py",
   "mimetype": "text/x-python",
   "name": "python",
   "nbconvert_exporter": "python",
   "pygments_lexer": "ipython3",
   "version": "3.6.5"
  }
 },
 "nbformat": 4,
 "nbformat_minor": 2
}
