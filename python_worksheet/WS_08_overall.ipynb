{
 "cells": [
  {
   "cell_type": "markdown",
   "metadata": {},
   "source": [
    "# 8일차\n",
    "\n",
    "## 문제 1\n",
    "아래 코드를 실행해보고 \\[ \\], 배열 역할을 이해해보자 (2째 주에 배열을 다룬 적이 있음)"
   ]
  },
  {
   "cell_type": "code",
   "execution_count": 3,
   "metadata": {},
   "outputs": [
    {
     "name": "stdout",
     "output_type": "stream",
     "text": [
      "dcba4321\n"
     ]
    }
   ],
   "source": [
    "def string_reverse(str1): \n",
    "    rstr1 = '' \n",
    "    index = len(str1) \n",
    "    while index > 0: \n",
    "        rstr1 += str1[ index - 1 ]\n",
    "        index = index - 1 \n",
    "\n",
    "    return rstr1 \n",
    "\n",
    "print(string_reverse('1234abcd'))"
   ]
  },
  {
   "cell_type": "markdown",
   "metadata": {},
   "source": [
    "위의 프로그램을 응용하여, 사용자가 입력한 문자와 역순의 문자를 이어서 출력하는 프로그램을 작성해보자\n",
    "   예: 사용자가 `Happy`를 입력하면 결과는 ```HappyyppaH```가 되도록 한다.\n",
    "   "
   ]
  },
  {
   "cell_type": "markdown",
   "metadata": {},
   "source": [
    "## 문제 2\n",
    "입력된 두 수 중 큰 수를 출력하는 `Larger(A, B)`라는 프로그램을 작성해보자. 또한 이 함수를 활용하여 입력 받은 세 개의 수 중 가장 큰 수를 찾아보자.\n"
   ]
  },
  {
   "cell_type": "code",
   "execution_count": null,
   "metadata": {},
   "outputs": [],
   "source": [
    "A = int((input(\"Input A: \")))\n",
    "B = int(input(\"Input B: \"))\n",
    "\n",
    "Larger(A, B)"
   ]
  }
 ],
 "metadata": {
  "kernelspec": {
   "display_name": "Python 3",
   "language": "python",
   "name": "python3"
  },
  "language_info": {
   "codemirror_mode": {
    "name": "ipython",
    "version": 3
   },
   "file_extension": ".py",
   "mimetype": "text/x-python",
   "name": "python",
   "nbconvert_exporter": "python",
   "pygments_lexer": "ipython3",
   "version": "3.6.5"
  }
 },
 "nbformat": 4,
 "nbformat_minor": 2
}
