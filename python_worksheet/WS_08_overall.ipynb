{
 "cells": [
  {
   "cell_type": "markdown",
   "metadata": {},
   "source": [
    "# 8일차\n",
    "\n",
    "# 종합\n",
    "\n",
    "## 문제 1\n",
    "아래 코드를 실행해보고 \\[ \\], 배열 역할을 이해해보자 (2째 주에 배열을 다룬 적이 있음)"
   ]
  },
  {
   "cell_type": "code",
   "execution_count": 3,
   "metadata": {},
   "outputs": [
    {
     "name": "stdout",
     "output_type": "stream",
     "text": [
      "dcba4321\n"
     ]
    }
   ],
   "source": [
    "def string_reverse(str1): \n",
    "    rstr1 = '' \n",
    "    index = len(str1) \n",
    "    while index > 0: \n",
    "        rstr1 += str1[ index - 1 ]\n",
    "        index = index - 1 \n",
    "\n",
    "    return rstr1 \n",
    "\n",
    "print(string_reverse('1234abcd'))"
   ]
  },
  {
   "cell_type": "markdown",
   "metadata": {},
   "source": [
    "위의 프로그램을 응용하여, 사용자가 입력한 문자와 역순의 문자를 이어서 출력하는 프로그램을 작성해보자\n",
    "   예: 사용자가 `Happy`를 입력하면 결과는 ```HappyyppaH```가 되도록 한다.\n",
    "   "
   ]
  },
  {
   "cell_type": "code",
   "execution_count": null,
   "metadata": {},
   "outputs": [],
   "source": [
    "# your code here"
   ]
  },
  {
   "cell_type": "markdown",
   "metadata": {},
   "source": [
    "## 문제 2\n",
    "재귀적인 함수 호출을 이용하여 피보나치 수를 계산하도록 만들어보자."
   ]
  },
  {
   "cell_type": "code",
   "execution_count": null,
   "metadata": {},
   "outputs": [],
   "source": [
    "# your code here\n",
    "\n",
    "print fib(0)\n",
    "print fib(3)\n",
    "print fib(5)"
   ]
  },
  {
   "cell_type": "markdown",
   "metadata": {},
   "source": [
    "# 문제 3\n",
    "사용자가 아무렇게나 입력한 10개의 숫자가 오름차순이 되도록 코드를 작성해보자. 힌트: 배열을 사용하고, 배열에서 가장 큰 숫자를 찾아 가장 끝 위치로 넣으면 된다.   "
   ]
  },
  {
   "cell_type": "code",
   "execution_count": 1,
   "metadata": {},
   "outputs": [],
   "source": [
    "# your code here"
   ]
  },
  {
   "cell_type": "markdown",
   "metadata": {},
   "source": [
    "# 문제 4\n",
    "\n",
    "```perfect(n)```라는 함수를 만들어 완전수를 찾아보자. ```n```은 정수이다. 완전수는 자기 자신을 제외한 양의 약수를 모두 더했을 때 자기 자신이 되는 양의 정수이다. 예를 들어 6의 약수는 1, 2, 3, 6인데, 자기 자신은 제외한다고 했으니, 1, 2, 3을 더하면 6이다. 더한 값과 원래의 값이 같으므로 완전수이다. 1000 이하의 양의 정수에 존재하는 모든 완전수를 찾아보자."
   ]
  },
  {
   "cell_type": "code",
   "execution_count": null,
   "metadata": {},
   "outputs": [],
   "source": [
    "# your code here"
   ]
  },
  {
   "cell_type": "markdown",
   "metadata": {},
   "source": [
    "# Note\n",
    "여기까지는 모든 프로그램에 적용되는 일반적인 개념들만을 다뤘습니다. 딕셔너리, 리스트, 스트링, 클라스 등 더 많은 흥미로운 주제들이 있습니다. 여기서 멈추지 말고 계속 알아보고 배우기 바랍니다. 배우기를 멈추는 순간 어른이 됩니다. 평생 청년으로 남기 바랍니다."
   ]
  },
  {
   "cell_type": "code",
   "execution_count": null,
   "metadata": {},
   "outputs": [],
   "source": []
  }
 ],
 "metadata": {
  "kernelspec": {
   "display_name": "Python 3",
   "language": "python",
   "name": "python3"
  },
  "language_info": {
   "codemirror_mode": {
    "name": "ipython",
    "version": 3
   },
   "file_extension": ".py",
   "mimetype": "text/x-python",
   "name": "python",
   "nbconvert_exporter": "python",
   "pygments_lexer": "ipython3",
   "version": "3.6.5"
  }
 },
 "nbformat": 4,
 "nbformat_minor": 2
}
