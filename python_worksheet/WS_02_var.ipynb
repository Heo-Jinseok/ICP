{
 "cells": [
  {
   "cell_type": "markdown",
   "metadata": {},
   "source": [
    "# 2 일차\n",
    "# 변수\n",
    "\n",
    "# 팀의 구성과 활동\n",
    "* 한 팀에 6명\n",
    "* 팀의 일원이 각각 한 문제를 전담하여 이해를 하고 자기 팀에 설명\n",
    "* 같은 문제를 전담한 학생들은 같이 모여서 해결"
   ]
  },
  {
   "cell_type": "markdown",
   "metadata": {},
   "source": [
    "## 토론 문제\n",
    "1. ```import```가하는 일과 터틀 동작법과 예제\n",
    "2. 주석이 하는 일과 용법과 예제\n",
    "3. 프린트의 용법과 예제\n",
    "4. 코드를 파일로 저장하고 불러오기 그리고 실행하기 예제\n",
    "5. 파이썬에서 연산의 종류와 사용법 및 예제\n",
    "6. 변수는 무엇이고, 활용법 및 예제"
   ]
  },
  {
   "cell_type": "markdown",
   "metadata": {},
   "source": [
    "# 문제\n",
    "좋아하는 연예인의 이름과 나이를 출력하는 프로그램은 다음과 같이 작성 할 수 있다. 이를 참고하여 아래 문제들을 해결하여라."
   ]
  },
  {
   "cell_type": "code",
   "execution_count": 2,
   "metadata": {},
   "outputs": [
    {
     "name": "stdout",
     "output_type": "stream",
     "text": [
      "Emma Thompson, 58\n"
     ]
    }
   ],
   "source": [
    "print(\"Emma Thompson,\", 58)"
   ]
  },
  {
   "cell_type": "markdown",
   "metadata": {},
   "source": [
    "1. 좋아하는 연예인 10명의 이름과 나이를 출력하는 프로그램\n",
    "2. 좋아하는 연예인 10명의 이름과 나이를 변수를 사용하여 출력하는 프로그램 (NAME에 좋아하는 연예인 이름, AGE에 나이)\n",
    "3. 좋아하는 연예인 10명의 이름과 나이를 배열을 사용하여 출력하는 프로그램 (NAME에 좋아하는 연예인 이름, AGE에 나이)\n",
    "4. 피보나치 수열은 앞의 두 수의 합으로 나타낼 수 있다. 10번 째 피보나치 수열을 계산하는 프로그램을 만들어 보자\n",
    "5. 거북이로 원, 사각형, 삼각형 그려보기\n",
    "6. ```foo```와 ```bar```에 서로 다른 값이 저장되어 있을 때, 두 변수의 값을 서로 맞바꾸는 코드를 작성하여라\n",
    "```\n",
    "foo = 45; bar = 77\n",
    "# 변환 코드 작성\n",
    "print(\"foo\", foo, \"bar\", bar) \n",
    "# 실행 결과는 foo 77 bar 45\n",
    "```\n",
    "7. 먼저 끝낸 사람은 확인 받고 퇴실"
   ]
  },
  {
   "cell_type": "markdown",
   "metadata": {},
   "source": [
    "# 숙제\n",
    "* 거북이로 이름 그리기"
   ]
  }
 ],
 "metadata": {
  "kernelspec": {
   "display_name": "Python 3",
   "language": "python",
   "name": "python3"
  },
  "language_info": {
   "codemirror_mode": {
    "name": "ipython",
    "version": 3
   },
   "file_extension": ".py",
   "mimetype": "text/x-python",
   "name": "python",
   "nbconvert_exporter": "python",
   "pygments_lexer": "ipython3",
   "version": "3.6.5"
  }
 },
 "nbformat": 4,
 "nbformat_minor": 2
}
