{
 "cells": [
  {
   "cell_type": "markdown",
   "metadata": {},
   "source": [
    "# 숙제\n",
    "\n",
    "용돈 관리 프로그램을 작성하려고 한다. 이 프로그램의 하는 일은 다음과 같다.\n",
    "\n",
    "* 편의를 위해서 용돈으로 1,000,000원이 있다고 하자.\n",
    "* 선택 가능한 메뉴를 보여준다. 메뉴와 내용은 다음과 같다.\n",
    "* 0 종료: 0을 입력하면 계좌 관리 프로그램은 종료된다. \n",
    "* 1 현재 잔액: 1을 입력하면 현재 잔액을 표시한다.\n",
    "* 2 출금: 2를 입력하면 현재 잔액을 표시하고, 출금 금액을 입력 요청한다. 출금된 결과를 표시한다.\n",
    "* 3 입금: 3을 입력하면 현재 잔액을 표시하고, 입금할 금액을 물어본다. 입급된 결과를 표시한다.\n",
    "* 메뉴에는 표시되지 않지만, 777을 입력하면 비밀 계좌에 대한 정보를 보여주도록 하자.\n",
    "* 비밀 계좌에서도 일반 메뉴는 보이도록 하되 0이 종료가 아니고 888이 종료 번호란 것을 표기 하도록 하자.\n",
    "* 888을 입력하면 최초의 메뉴를 다시 보여준다.\n",
    "\n",
    "\n",
    "실행 예:\n",
    "\n",
    "    Current balance: 1000000 Won\n",
    "    \n",
    "    0: Exit\n",
    "    1: Current Balance\n",
    "    2: Debit\n",
    "    3: Credit\n",
    "    \n",
    "    Enter the number for transaction:\n",
    "    \n",
    "777을 입력했을 때의 예\n",
    "\n",
    "    Your secret account's balance: 300000 Won\n",
    "    \n",
    "    888: Exit\n",
    "    1: Current Balance\n",
    "    2: Debit\n",
    "    3: Credit\n",
    "    \n",
    "    Enter the number for transaction:\n",
    "    \n",
    "    \n",
    "## 제출 방법\n",
    "* piazza에 HW 폴더에 공개 게시물로 작성하여 파일을 첨부함.\n",
    "* 파일의 인코딩은 utf-8로 지정함.\n",
    "* 파일의 이름은 \"이름_학번_CF.c\"로 할 것\n",
    "* 실행 결과는 게시물에 그림으로 등록\n",
    "* 프로그램 설명은 본문에 작성함\n",
    "* 다른 학생이 과제로 제출한 코드를 읽고 다른 사람들의 코드 또는 인터넷의 어떤 코드와 유사한지 판단 할 것임. 판단 결과 부정이 있었다면 해당 과제는 무효 처리 됨. "
   ]
  },
  {
   "cell_type": "code",
   "execution_count": null,
   "metadata": {},
   "outputs": [],
   "source": []
  }
 ],
 "metadata": {
  "kernelspec": {
   "display_name": "C",
   "language": "c",
   "name": "c"
  },
  "language_info": {
   "file_extension": ".c",
   "mimetype": "text/plain",
   "name": "c"
  }
 },
 "nbformat": 4,
 "nbformat_minor": 2
}
