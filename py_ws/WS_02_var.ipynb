{
 "cells": [
  {
   "cell_type": "markdown",
   "metadata": {},
   "source": [
    "# 2 일차\n",
    "# 변수\n",
    "\n",
    "# 팀의 구성과 활동\n",
    "* 한 팀에 6명\n",
    "* 팀의 일원이 각각 한 문제를 전담하여 이해를 하고 자기 팀에 설명\n",
    "* 같은 문제를 전담한 학생들은 같이 모여서 해결"
   ]
  },
  {
   "cell_type": "markdown",
   "metadata": {},
   "source": [
    "## 토론 문제\n",
    "1. ```import```가하는 일과 터틀 동작법과 예제\n",
    "2. 주석이 하는 일과 용법과 예제\n",
    "3. 프린트의 용법과 예제\n",
    "4. 코드를 파일로 저장하고 불러오기 그리고 실행하기 예제\n",
    "5. 파이썬에서 연산의 종류와 사용법 및 예제\n",
    "6. 변수는 무엇이고, 활용법 및 예제"
   ]
  },
  {
   "cell_type": "markdown",
   "metadata": {},
   "source": [
    "# 문제\n",
    "좋아하는 연예인의 이름과 나이를 출력하는 프로그램은 다음과 같이 작성 할 수 있다. 이를 참고하여 아래 문제들을 해결하여라."
   ]
  },
  {
   "cell_type": "code",
   "execution_count": 2,
   "metadata": {},
   "outputs": [
    {
     "name": "stdout",
     "output_type": "stream",
     "text": [
      "Emma Thompson, 58\n"
     ]
    }
   ],
   "source": [
    "print(\"Emma Thompson,\", 58)"
   ]
  },
  {
   "cell_type": "markdown",
   "metadata": {},
   "source": [
    "1. 좋아하는 연예인 10명의 이름과 나이 그리고 좋아하는 이유를 한 문장으로 해서 3개의 서로 다른 문장을 출력하는 프로그램\n",
    "\n",
    "예: \n",
    "* 연예인 이름1 (나이), 예전에 만났을 때 따뜻한 위로의 말을 해주었음\n",
    "* 연예인 이름1 (나이), 악수를 해줬음\n",
    "* 연예인 이름1 (나이), 사인과 선물을 받았음"
   ]
  },
  {
   "cell_type": "code",
   "execution_count": null,
   "metadata": {},
   "outputs": [],
   "source": [
    "# print()를 몇 개든 사용하여 출력"
   ]
  },
  {
   "cell_type": "markdown",
   "metadata": {},
   "source": [
    "2. 위의 프로그램에서 사용된 연예인 이름과 나이를 변수를 사용하여 출력하는 프로그램 (NAME1에 좋아하는 연예인 이름1, AGE1에 나이1)\n",
    "변수를 사용하여 얻는 이득은 무엇인가?"
   ]
  },
  {
   "cell_type": "code",
   "execution_count": null,
   "metadata": {},
   "outputs": [],
   "source": [
    "# 위의 문제의 코드를 변형하여 연예인 이름과 나이가 한 번씩만 등장하도록"
   ]
  },
  {
   "cell_type": "markdown",
   "metadata": {},
   "source": [
    "4. 피보나치 수열은 앞의 두 수의 합으로 나타낼 수 있다. 10번 째 피보나치 수열을 계산하는 프로그램을 만들어 보자"
   ]
  },
  {
   "cell_type": "code",
   "execution_count": null,
   "metadata": {},
   "outputs": [],
   "source": [
    "# 피보나치 수열의 시작은 1, 1 이다. fib_0 = 1, fib_1 = 1, fib_2 = 2, fib_3 = 3, fib_4 = 5\n",
    "# 일반 식 fib_n = fib_n-1 + fib_n-2\n",
    "\n",
    "# your code here\n",
    "print(\"10번째 피보나치 수열의 값은\")"
   ]
  },
  {
   "cell_type": "markdown",
   "metadata": {},
   "source": [
    "5. 거북이로 원, 사각형, 삼각형 그려보기\n",
    "책 57, 58p에 사용 가능한 명령들이 있음"
   ]
  },
  {
   "cell_type": "code",
   "execution_count": null,
   "metadata": {},
   "outputs": [],
   "source": [
    "import turtle as t # 거북이 라이브러리를 t 라는 이름으로 불러옴\n",
    "\n",
    "# your code here"
   ]
  },
  {
   "cell_type": "markdown",
   "metadata": {},
   "source": [
    "6. ```foo```와 ```bar```에 서로 다른 값이 저장되어 있을 때, 두 변수의 값을 서로 맞바꾸는 코드를 작성하여라\n",
    "```\n",
    "foo = 45; bar = 77\n",
    "# 변환 코드 작성\n",
    "print(\"foo\", foo, \"bar\", bar) \n",
    "# 실행 결과는 foo 77 bar 45\n",
    "```"
   ]
  },
  {
   "cell_type": "code",
   "execution_count": null,
   "metadata": {},
   "outputs": [],
   "source": [
    "foo = 45\n",
    "bar = 77\n",
    "\n",
    "# your code here\n",
    "\n",
    "print(\"foo\", foo, \"bar\", bar) "
   ]
  },
  {
   "cell_type": "markdown",
   "metadata": {},
   "source": [
    "# 숙제\n",
    "* 거북이로 이름 그리기"
   ]
  },
  {
   "cell_type": "code",
   "execution_count": null,
   "metadata": {},
   "outputs": [],
   "source": [
    "import turtle as t\n",
    "\n",
    "# your code here"
   ]
  }
 ],
 "metadata": {
  "kernelspec": {
   "display_name": "Python 3",
   "language": "python",
   "name": "python3"
  },
  "language_info": {
   "codemirror_mode": {
    "name": "ipython",
    "version": 3
   },
   "file_extension": ".py",
   "mimetype": "text/x-python",
   "name": "python",
   "nbconvert_exporter": "python",
   "pygments_lexer": "ipython3",
   "version": "3.6.5"
  }
 },
 "nbformat": 4,
 "nbformat_minor": 2
}
